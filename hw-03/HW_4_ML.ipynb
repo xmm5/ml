{
 "cells": [
  {
   "cell_type": "code",
   "execution_count": 1,
   "metadata": {},
   "outputs": [],
   "source": [
    "import pandas as pd\n",
    "import numpy as np\n",
    "import warnings\n",
    "\n",
    "from matplotlib import pyplot as plt\n",
    "\n",
    "warnings.filterwarnings('ignore')\n",
    "warnings.filterwarnings(action='once')"
   ]
  },
  {
   "cell_type": "code",
   "execution_count": 2,
   "metadata": {},
   "outputs": [],
   "source": [
    "RANDOM_STATE = 42\n",
    "results = pd.DataFrame(columns = ['model', 'task', 'accuracy'])"
   ]
  },
  {
   "cell_type": "markdown",
   "metadata": {},
   "source": [
    "https://archive.ics.uci.edu/ml/datasets/wine+quality"
   ]
  },
  {
   "cell_type": "code",
   "execution_count": 3,
   "metadata": {},
   "outputs": [
    {
     "data": {
      "text/html": [
       "<div>\n",
       "<style scoped>\n",
       "    .dataframe tbody tr th:only-of-type {\n",
       "        vertical-align: middle;\n",
       "    }\n",
       "\n",
       "    .dataframe tbody tr th {\n",
       "        vertical-align: top;\n",
       "    }\n",
       "\n",
       "    .dataframe thead th {\n",
       "        text-align: right;\n",
       "    }\n",
       "</style>\n",
       "<table border=\"1\" class=\"dataframe\">\n",
       "  <thead>\n",
       "    <tr style=\"text-align: right;\">\n",
       "      <th></th>\n",
       "      <th>fixed acidity</th>\n",
       "      <th>volatile acidity</th>\n",
       "      <th>citric acid</th>\n",
       "      <th>residual sugar</th>\n",
       "      <th>chlorides</th>\n",
       "      <th>free sulfur dioxide</th>\n",
       "      <th>total sulfur dioxide</th>\n",
       "      <th>density</th>\n",
       "      <th>pH</th>\n",
       "      <th>sulphates</th>\n",
       "      <th>alcohol</th>\n",
       "      <th>quality</th>\n",
       "    </tr>\n",
       "  </thead>\n",
       "  <tbody>\n",
       "    <tr>\n",
       "      <th>0</th>\n",
       "      <td>7.4</td>\n",
       "      <td>0.70</td>\n",
       "      <td>0.00</td>\n",
       "      <td>1.9</td>\n",
       "      <td>0.076</td>\n",
       "      <td>11.0</td>\n",
       "      <td>34.0</td>\n",
       "      <td>0.9978</td>\n",
       "      <td>3.51</td>\n",
       "      <td>0.56</td>\n",
       "      <td>9.4</td>\n",
       "      <td>5</td>\n",
       "    </tr>\n",
       "    <tr>\n",
       "      <th>1</th>\n",
       "      <td>7.8</td>\n",
       "      <td>0.88</td>\n",
       "      <td>0.00</td>\n",
       "      <td>2.6</td>\n",
       "      <td>0.098</td>\n",
       "      <td>25.0</td>\n",
       "      <td>67.0</td>\n",
       "      <td>0.9968</td>\n",
       "      <td>3.20</td>\n",
       "      <td>0.68</td>\n",
       "      <td>9.8</td>\n",
       "      <td>5</td>\n",
       "    </tr>\n",
       "    <tr>\n",
       "      <th>2</th>\n",
       "      <td>7.8</td>\n",
       "      <td>0.76</td>\n",
       "      <td>0.04</td>\n",
       "      <td>2.3</td>\n",
       "      <td>0.092</td>\n",
       "      <td>15.0</td>\n",
       "      <td>54.0</td>\n",
       "      <td>0.9970</td>\n",
       "      <td>3.26</td>\n",
       "      <td>0.65</td>\n",
       "      <td>9.8</td>\n",
       "      <td>5</td>\n",
       "    </tr>\n",
       "    <tr>\n",
       "      <th>3</th>\n",
       "      <td>11.2</td>\n",
       "      <td>0.28</td>\n",
       "      <td>0.56</td>\n",
       "      <td>1.9</td>\n",
       "      <td>0.075</td>\n",
       "      <td>17.0</td>\n",
       "      <td>60.0</td>\n",
       "      <td>0.9980</td>\n",
       "      <td>3.16</td>\n",
       "      <td>0.58</td>\n",
       "      <td>9.8</td>\n",
       "      <td>6</td>\n",
       "    </tr>\n",
       "    <tr>\n",
       "      <th>4</th>\n",
       "      <td>7.4</td>\n",
       "      <td>0.70</td>\n",
       "      <td>0.00</td>\n",
       "      <td>1.9</td>\n",
       "      <td>0.076</td>\n",
       "      <td>11.0</td>\n",
       "      <td>34.0</td>\n",
       "      <td>0.9978</td>\n",
       "      <td>3.51</td>\n",
       "      <td>0.56</td>\n",
       "      <td>9.4</td>\n",
       "      <td>5</td>\n",
       "    </tr>\n",
       "  </tbody>\n",
       "</table>\n",
       "</div>"
      ],
      "text/plain": [
       "   fixed acidity  volatile acidity  citric acid  residual sugar  chlorides  \\\n",
       "0            7.4              0.70         0.00             1.9      0.076   \n",
       "1            7.8              0.88         0.00             2.6      0.098   \n",
       "2            7.8              0.76         0.04             2.3      0.092   \n",
       "3           11.2              0.28         0.56             1.9      0.075   \n",
       "4            7.4              0.70         0.00             1.9      0.076   \n",
       "\n",
       "   free sulfur dioxide  total sulfur dioxide  density    pH  sulphates  \\\n",
       "0                 11.0                  34.0   0.9978  3.51       0.56   \n",
       "1                 25.0                  67.0   0.9968  3.20       0.68   \n",
       "2                 15.0                  54.0   0.9970  3.26       0.65   \n",
       "3                 17.0                  60.0   0.9980  3.16       0.58   \n",
       "4                 11.0                  34.0   0.9978  3.51       0.56   \n",
       "\n",
       "   alcohol  quality  \n",
       "0      9.4        5  \n",
       "1      9.8        5  \n",
       "2      9.8        5  \n",
       "3      9.8        6  \n",
       "4      9.4        5  "
      ]
     },
     "execution_count": 3,
     "metadata": {},
     "output_type": "execute_result"
    }
   ],
   "source": [
    "data = pd.read_csv('data/winequality-red.csv', sep = ';')\n",
    "data.head()"
   ]
  },
  {
   "cell_type": "code",
   "execution_count": null,
   "metadata": {},
   "outputs": [],
   "source": []
  },
  {
   "cell_type": "markdown",
   "metadata": {},
   "source": [
    "1.Разделите выборку на обучающую и тестовую в отношении 70%/30%, предварительно выделив целевую переменную (колонка 'quality')."
   ]
  },
  {
   "cell_type": "code",
   "execution_count": 4,
   "metadata": {},
   "outputs": [
    {
     "data": {
      "text/plain": [
       "((1119, 11), (480, 11), (1119,), (480,))"
      ]
     },
     "metadata": {},
     "output_type": "display_data"
    }
   ],
   "source": [
    "### Ваш код ###\n",
    "from sklearn.model_selection import train_test_split\n",
    "\n",
    "columns = list(data.columns)\n",
    "columns.remove('quality')\n",
    "\n",
    "X = data[columns]\n",
    "y = data['quality']\n",
    "\n",
    "X_train, X_test, y_train, y_test = train_test_split(X, y, train_size=0.7, random_state=RANDOM_STATE)\n",
    "\n",
    "display((X_train.shape, X_test.shape, y_train.shape, y_test.shape))"
   ]
  },
  {
   "cell_type": "markdown",
   "metadata": {},
   "source": [
    "2.Оцените качество на тестовой выборке по метрике accuracy для классификаторов:\n",
    "\n",
    "DecisionTreeClassifier\n",
    "\n",
    "BaggingClassifier со 100 деревьями\n",
    "\n",
    "RandomForestClassifier со 100 деревьями\n",
    "\n",
    "Сравните результаты и напишите какой вывод можно сделать."
   ]
  },
  {
   "cell_type": "code",
   "execution_count": 5,
   "metadata": {},
   "outputs": [
    {
     "data": {
      "text/html": [
       "<div>\n",
       "<style scoped>\n",
       "    .dataframe tbody tr th:only-of-type {\n",
       "        vertical-align: middle;\n",
       "    }\n",
       "\n",
       "    .dataframe tbody tr th {\n",
       "        vertical-align: top;\n",
       "    }\n",
       "\n",
       "    .dataframe thead th {\n",
       "        text-align: right;\n",
       "    }\n",
       "</style>\n",
       "<table border=\"1\" class=\"dataframe\">\n",
       "  <thead>\n",
       "    <tr style=\"text-align: right;\">\n",
       "      <th></th>\n",
       "      <th>model</th>\n",
       "      <th>task</th>\n",
       "      <th>accuracy</th>\n",
       "    </tr>\n",
       "  </thead>\n",
       "  <tbody>\n",
       "    <tr>\n",
       "      <th>0</th>\n",
       "      <td>DecisionTreeClassifier</td>\n",
       "      <td>task2</td>\n",
       "      <td>0.558333</td>\n",
       "    </tr>\n",
       "    <tr>\n",
       "      <th>1</th>\n",
       "      <td>BaggingClassifier</td>\n",
       "      <td>task2</td>\n",
       "      <td>0.641667</td>\n",
       "    </tr>\n",
       "    <tr>\n",
       "      <th>2</th>\n",
       "      <td>RandomForestClassifier</td>\n",
       "      <td>task2</td>\n",
       "      <td>0.670833</td>\n",
       "    </tr>\n",
       "  </tbody>\n",
       "</table>\n",
       "</div>"
      ],
      "text/plain": [
       "                    model   task  accuracy\n",
       "0  DecisionTreeClassifier  task2  0.558333\n",
       "1      BaggingClassifier   task2  0.641667\n",
       "2  RandomForestClassifier  task2  0.670833"
      ]
     },
     "metadata": {},
     "output_type": "display_data"
    }
   ],
   "source": [
    "### Ваш код ###\n",
    "from sklearn.tree import DecisionTreeClassifier\n",
    "from sklearn.ensemble import BaggingClassifier, RandomForestClassifier\n",
    "from sklearn.metrics import accuracy_score\n",
    "\n",
    "dt = DecisionTreeClassifier()\n",
    "dt.fit(X_train, y_train)\n",
    "\n",
    "bagging = BaggingClassifier(dt, n_estimators=100, random_state=RANDOM_STATE)\n",
    "bagging.fit(X_train, y_train)\n",
    "\n",
    "rf = RandomForestClassifier(n_estimators=100)\n",
    "rf.fit(X_train, y_train)\n",
    "\n",
    "acc_DT = accuracy_score(y_test, dt.predict(X_test))\n",
    "acc_Bagging = accuracy_score(y_test, bagging.predict(X_test))\n",
    "acc_RF = accuracy_score(y_test, rf.predict(X_test))\n",
    "\n",
    "results.loc[0] = ['DecisionTreeClassifier', 'task2', acc_DT]\n",
    "results.loc[1] = ['BaggingClassifier ', 'task2', acc_Bagging]\n",
    "results.loc[2] = ['RandomForestClassifier', 'task2', acc_RF]\n",
    "\n",
    "display(results)"
   ]
  },
  {
   "cell_type": "markdown",
   "metadata": {},
   "source": [
    "**Вывод:**\n",
    "\n",
    "Классификатор RandomForestClassifier дает лучший результат по справнению с классификатором BaggingClassifier. Оба классификатора RandomForestClassifier и BaggingClassifier дают лучший результат по сравнению с DecisionTreeClassifier."
   ]
  },
  {
   "cell_type": "markdown",
   "metadata": {},
   "source": [
    "3.Посчитайте качество на тестовой выборке по метрике accuracy для классификатора RandomForestClassifier, используя значения деревьев:\n",
    "    \n",
    "10, 50, 100, 200, далее с шагом 200 до 5000 деревьев.\n",
    "Постройте график зависимости качества от числа деревьев.\n",
    "\n"
   ]
  },
  {
   "cell_type": "code",
   "execution_count": 6,
   "metadata": {},
   "outputs": [
    {
     "data": {
      "image/png": "[encoded data removed]",
      "text/plain": [
       "<Figure size 800x500 with 1 Axes>"
      ]
     },
     "metadata": {},
     "output_type": "display_data"
    }
   ],
   "source": [
    "### Ваш код ###\n",
    "n_trees = [10, 50, 100] + list(range(200, 5000+1, 200))\n",
    "acc_scores = []\n",
    "for n in n_trees:\n",
    "    rf = RandomForestClassifier(n_estimators=n, random_state=RANDOM_STATE)\n",
    "    rf.fit(X_train, y_train)\n",
    "    acc = accuracy_score(y_test, rf.predict(X_test))\n",
    "    acc_scores.append(acc)\n",
    "    \n",
    "plt.figure(figsize=(8, 5))\n",
    "plt.plot(n_trees, acc_scores, marker='.')\n",
    "plt.xlabel('Number of trees')\n",
    "plt.ylabel('Accuracy')\n",
    "plt.grid()\n",
    "plt.show()"
   ]
  },
  {
   "cell_type": "markdown",
   "metadata": {},
   "source": [
    "**Вывод:**\n",
    "\n",
    "При увеличении количества деревьев от 10 до 200 наблюдается сильное увеличение значения метрики accuracy. Дальнейшее увеличение количества деревьев от 200 до 5000 не сильно увеличивает значение метрики."
   ]
  },
  {
   "cell_type": "markdown",
   "metadata": {},
   "source": [
    "4.Обучите реализации градиентного бустинга с параметрами по умолчанию из библиотек sklearn и xgboost. Сравните значение метрики accuracy по cross_val_score"
   ]
  },
  {
   "cell_type": "code",
   "execution_count": 7,
   "metadata": {},
   "outputs": [
    {
     "data": {
      "text/html": [
       "<div>\n",
       "<style scoped>\n",
       "    .dataframe tbody tr th:only-of-type {\n",
       "        vertical-align: middle;\n",
       "    }\n",
       "\n",
       "    .dataframe tbody tr th {\n",
       "        vertical-align: top;\n",
       "    }\n",
       "\n",
       "    .dataframe thead th {\n",
       "        text-align: right;\n",
       "    }\n",
       "</style>\n",
       "<table border=\"1\" class=\"dataframe\">\n",
       "  <thead>\n",
       "    <tr style=\"text-align: right;\">\n",
       "      <th></th>\n",
       "      <th>model</th>\n",
       "      <th>task</th>\n",
       "      <th>accuracy</th>\n",
       "    </tr>\n",
       "  </thead>\n",
       "  <tbody>\n",
       "    <tr>\n",
       "      <th>3</th>\n",
       "      <td>GradientBoostingClassifier</td>\n",
       "      <td>task4</td>\n",
       "      <td>0.560349</td>\n",
       "    </tr>\n",
       "    <tr>\n",
       "      <th>4</th>\n",
       "      <td>XGBClassifier</td>\n",
       "      <td>task4</td>\n",
       "      <td>0.547234</td>\n",
       "    </tr>\n",
       "  </tbody>\n",
       "</table>\n",
       "</div>"
      ],
      "text/plain": [
       "                        model   task  accuracy\n",
       "3  GradientBoostingClassifier  task4  0.560349\n",
       "4               XGBClassifier  task4  0.547234"
      ]
     },
     "metadata": {},
     "output_type": "display_data"
    }
   ],
   "source": [
    "### Ваш код ###\n",
    "from sklearn.ensemble import GradientBoostingClassifier\n",
    "from xgboost import XGBClassifier\n",
    "from sklearn.model_selection import cross_val_score\n",
    "from sklearn.preprocessing import LabelEncoder\n",
    "\n",
    "# Ошибка при вызове xgb.fit(X_train, y_train):\n",
    "# ValueError: Invalid classes inferred from unique values of `y`.  Expected: [0 1 2 3 4 5], got [3 4 5 6 7 8]\n",
    "# Решение:\n",
    "# https://stackoverflow.com/questions/71996617/invalid-classes-inferred-from-unique-values-of-y-expected-0-1-2-3-4-5-got\n",
    "\n",
    "le = LabelEncoder()\n",
    "y_encoded = le.fit_transform(y)\n",
    "\n",
    "X_train, X_test, y_train, y_test = train_test_split(X, y_encoded, train_size=0.7, random_state=RANDOM_STATE)\n",
    "\n",
    "# display((X_train.shape, X_test.shape, y_train.shape, y_test.shape))\n",
    "\n",
    "gb = GradientBoostingClassifier()\n",
    "gb.fit(X_train, y_train)\n",
    "\n",
    "xgb = XGBClassifier()\n",
    "xgb.fit(X_train, y_train)\n",
    "\n",
    "acc_sklearn = cross_val_score(gb, X, y_encoded, scoring='accuracy').mean()\n",
    "acc_xgboost = cross_val_score(xgb, X, y_encoded, scoring='accuracy').mean()\n",
    "\n",
    "results.loc[3] = ['GradientBoostingClassifier', 'task4', acc_sklearn]\n",
    "results.loc[4] = ['XGBClassifier', 'task4', acc_xgboost]\n",
    "\n",
    "display(results[3:5])"
   ]
  },
  {
   "cell_type": "markdown",
   "metadata": {},
   "source": [
    "**Вывод:**\n",
    "\n",
    "Градиентный бустинг с параметрами по умолчанию из библиотеки sklearn немного лучше градиентного бустинга с параметрами по умолчанию из библиотеки xgboost."
   ]
  },
  {
   "cell_type": "markdown",
   "metadata": {},
   "source": [
    "5.Подберите оптимальные параметры этих алгоритмов с помощью GridSearchCV(cv=3).\n",
    "Параметры для оптимизации:\n",
    "\n",
    "скорость обучения\n",
    "\n",
    "количество деревьев\n",
    "\n",
    "глубина деревьев\n",
    "\n",
    "Сравните значение метрики accuracy. Выведите лучшие параметры алгоритмов."
   ]
  },
  {
   "cell_type": "code",
   "execution_count": 8,
   "metadata": {},
   "outputs": [
    {
     "name": "stdout",
     "output_type": "stream",
     "text": [
      "Параметры лучшей модели sklearn:\n",
      "  learning_rate: 0.2\n",
      "  max_depth: 5\n",
      "  n_estimators: 300\n",
      "Параметры лучшей модели xgboost:\n",
      "  learning_rate: 0.1\n",
      "  max_depth: 4\n",
      "  n_estimators: 300\n"
     ]
    },
    {
     "data": {
      "text/html": [
       "<div>\n",
       "<style scoped>\n",
       "    .dataframe tbody tr th:only-of-type {\n",
       "        vertical-align: middle;\n",
       "    }\n",
       "\n",
       "    .dataframe tbody tr th {\n",
       "        vertical-align: top;\n",
       "    }\n",
       "\n",
       "    .dataframe thead th {\n",
       "        text-align: right;\n",
       "    }\n",
       "</style>\n",
       "<table border=\"1\" class=\"dataframe\">\n",
       "  <thead>\n",
       "    <tr style=\"text-align: right;\">\n",
       "      <th></th>\n",
       "      <th>model</th>\n",
       "      <th>task</th>\n",
       "      <th>accuracy</th>\n",
       "    </tr>\n",
       "  </thead>\n",
       "  <tbody>\n",
       "    <tr>\n",
       "      <th>3</th>\n",
       "      <td>GradientBoostingClassifier</td>\n",
       "      <td>task4</td>\n",
       "      <td>0.560349</td>\n",
       "    </tr>\n",
       "    <tr>\n",
       "      <th>4</th>\n",
       "      <td>XGBClassifier</td>\n",
       "      <td>task4</td>\n",
       "      <td>0.547234</td>\n",
       "    </tr>\n",
       "    <tr>\n",
       "      <th>5</th>\n",
       "      <td>GradientBoostingClassifier_CV</td>\n",
       "      <td>task5</td>\n",
       "      <td>0.639583</td>\n",
       "    </tr>\n",
       "    <tr>\n",
       "      <th>6</th>\n",
       "      <td>XGBClassifier_CV</td>\n",
       "      <td>task5</td>\n",
       "      <td>0.650000</td>\n",
       "    </tr>\n",
       "  </tbody>\n",
       "</table>\n",
       "</div>"
      ],
      "text/plain": [
       "                           model   task  accuracy\n",
       "3     GradientBoostingClassifier  task4  0.560349\n",
       "4                  XGBClassifier  task4  0.547234\n",
       "5  GradientBoostingClassifier_CV  task5  0.639583\n",
       "6               XGBClassifier_CV  task5  0.650000"
      ]
     },
     "metadata": {},
     "output_type": "display_data"
    }
   ],
   "source": [
    "### Ваш код ###\n",
    "from sklearn.model_selection import GridSearchCV\n",
    "\n",
    "parameters = {\n",
    "    'learning_rate': [0.01, 0.1, 0.2, 0.3, 0.4, 0.5],\n",
    "    'n_estimators': [100, 200, 300, 500],\n",
    "    'max_depth': [1, 2, 3, 4, 5],\n",
    "}\n",
    "\n",
    "gb_cv = GridSearchCV(GradientBoostingClassifier(), param_grid=parameters, cv=3, n_jobs=6)\n",
    "gb_cv.fit(X_train, y_train)\n",
    "\n",
    "xgb_cv = GridSearchCV(XGBClassifier(), param_grid=parameters, cv=3, n_jobs=6)\n",
    "xgb_cv.fit(X_train, y_train)\n",
    "\n",
    "best_params_sklearn = gb_cv.best_params_\n",
    "print('Параметры лучшей модели sklearn:')\n",
    "for key, value in best_params_sklearn.items():\n",
    "    print(f'  {key}: {value}')\n",
    "\n",
    "best_params_xgboost = xgb_cv.best_params_\n",
    "print('Параметры лучшей модели xgboost:')\n",
    "for key, value in best_params_xgboost.items():\n",
    "    print(f'  {key}: {value}')\n",
    "\n",
    "acc_sklearn_cv = accuracy_score(y_test, gb_cv.predict(X_test))\n",
    "acc_xgboost_cv = accuracy_score(y_test, xgb_cv.predict(X_test))\n",
    "\n",
    "results.loc[5] = ['GradientBoostingClassifier_CV', 'task5', acc_sklearn_cv]\n",
    "results.loc[6] = ['XGBClassifier_CV', 'task5', acc_xgboost_cv]\n",
    "\n",
    "display(results[results['task'].isin(['task4', 'task5'])])"
   ]
  },
  {
   "cell_type": "markdown",
   "metadata": {},
   "source": [
    "**Вывод:**\n",
    "\n",
    "С подобранными параметрами градиентный бустинг из библиотеки xgboost дает лучший результат метрики accuracy по сравнению с градиентным бустингом из библиотеки sklearn."
   ]
  },
  {
   "cell_type": "markdown",
   "metadata": {},
   "source": [
    "6.Обучите реализации градиентного бустинга с параметрами по умолчанию из библиотек lightgbm и catboost. Сравните значение метрики accuracy по cross_val_score по всем четырем реализациям."
   ]
  },
  {
   "cell_type": "code",
   "execution_count": 9,
   "metadata": {},
   "outputs": [
    {
     "name": "stderr",
     "output_type": "stream",
     "text": [
      "<frozen importlib._bootstrap>:228: RuntimeWarning: numpy.ufunc size changed, may indicate binary incompatibility. Expected 216 from C header, got 232 from PyObject\n"
     ]
    },
    {
     "data": {
      "text/html": [
       "<div>\n",
       "<style scoped>\n",
       "    .dataframe tbody tr th:only-of-type {\n",
       "        vertical-align: middle;\n",
       "    }\n",
       "\n",
       "    .dataframe tbody tr th {\n",
       "        vertical-align: top;\n",
       "    }\n",
       "\n",
       "    .dataframe thead th {\n",
       "        text-align: right;\n",
       "    }\n",
       "</style>\n",
       "<table border=\"1\" class=\"dataframe\">\n",
       "  <thead>\n",
       "    <tr style=\"text-align: right;\">\n",
       "      <th></th>\n",
       "      <th>model</th>\n",
       "      <th>task</th>\n",
       "      <th>accuracy</th>\n",
       "    </tr>\n",
       "  </thead>\n",
       "  <tbody>\n",
       "    <tr>\n",
       "      <th>3</th>\n",
       "      <td>GradientBoostingClassifier</td>\n",
       "      <td>task4</td>\n",
       "      <td>0.560349</td>\n",
       "    </tr>\n",
       "    <tr>\n",
       "      <th>4</th>\n",
       "      <td>XGBClassifier</td>\n",
       "      <td>task4</td>\n",
       "      <td>0.547234</td>\n",
       "    </tr>\n",
       "    <tr>\n",
       "      <th>7</th>\n",
       "      <td>LGBMClassifier</td>\n",
       "      <td>task6</td>\n",
       "      <td>0.557247</td>\n",
       "    </tr>\n",
       "    <tr>\n",
       "      <th>8</th>\n",
       "      <td>CatBoostClassifier</td>\n",
       "      <td>task6</td>\n",
       "      <td>0.545976</td>\n",
       "    </tr>\n",
       "  </tbody>\n",
       "</table>\n",
       "</div>"
      ],
      "text/plain": [
       "                        model   task  accuracy\n",
       "3  GradientBoostingClassifier  task4  0.560349\n",
       "4               XGBClassifier  task4  0.547234\n",
       "7              LGBMClassifier  task6  0.557247\n",
       "8          CatBoostClassifier  task6  0.545976"
      ]
     },
     "metadata": {},
     "output_type": "display_data"
    }
   ],
   "source": [
    "### Ваш код ###\n",
    "from lightgbm import LGBMClassifier\n",
    "from catboost import CatBoostClassifier\n",
    "\n",
    "lgbm = LGBMClassifier()\n",
    "lgbm.fit(X_train, y_train)\n",
    "\n",
    "cb = CatBoostClassifier(verbose=False)\n",
    "cb.fit(X_train, y_train)\n",
    "\n",
    "acc_lightgbm = cross_val_score(lgbm, X, y_encoded, scoring='accuracy').mean()\n",
    "acc_catboost = cross_val_score(cb, X, y_encoded, scoring='accuracy').mean()\n",
    "\n",
    "results.loc[7] = ['LGBMClassifier', 'task6', acc_lightgbm]\n",
    "results.loc[8] = ['CatBoostClassifier', 'task6', acc_catboost]\n",
    "\n",
    "display(results[results['task'].isin(['task4', 'task6'])])"
   ]
  },
  {
   "cell_type": "markdown",
   "metadata": {},
   "source": [
    "**Вывод:**\n",
    "\n",
    "Градиентный бустинг с параметрами по умолчанию из библиотеки sklearn имеет лучшее значение метрики accuracy. Далее идут алгоритмы из библиотеки lightgbm, xgboost и catboost."
   ]
  },
  {
   "cell_type": "markdown",
   "metadata": {},
   "source": [
    "7.Подберите оптимальные параметры для алгоритмов градиентного бустинга из библиотек lightgbm и catboost с теми же условиями.\n",
    "Сравните значение метрики accuracy. Выведите лучшие параметры алгоритмов."
   ]
  },
  {
   "cell_type": "code",
   "execution_count": 10,
   "metadata": {},
   "outputs": [
    {
     "name": "stdout",
     "output_type": "stream",
     "text": [
      "Параметры лучшей модели lightgbm:\n",
      "  learning_rate: 0.1\n",
      "  max_depth: 3\n",
      "  n_estimators: 300\n",
      "Параметры лучшей модели catboost:\n",
      "  learning_rate: 0.2\n",
      "  max_depth: 4\n",
      "  n_estimators: 300\n"
     ]
    },
    {
     "data": {
      "text/html": [
       "<div>\n",
       "<style scoped>\n",
       "    .dataframe tbody tr th:only-of-type {\n",
       "        vertical-align: middle;\n",
       "    }\n",
       "\n",
       "    .dataframe tbody tr th {\n",
       "        vertical-align: top;\n",
       "    }\n",
       "\n",
       "    .dataframe thead th {\n",
       "        text-align: right;\n",
       "    }\n",
       "</style>\n",
       "<table border=\"1\" class=\"dataframe\">\n",
       "  <thead>\n",
       "    <tr style=\"text-align: right;\">\n",
       "      <th></th>\n",
       "      <th>model</th>\n",
       "      <th>task</th>\n",
       "      <th>accuracy</th>\n",
       "    </tr>\n",
       "  </thead>\n",
       "  <tbody>\n",
       "    <tr>\n",
       "      <th>5</th>\n",
       "      <td>GradientBoostingClassifier_CV</td>\n",
       "      <td>task5</td>\n",
       "      <td>0.639583</td>\n",
       "    </tr>\n",
       "    <tr>\n",
       "      <th>6</th>\n",
       "      <td>XGBClassifier_CV</td>\n",
       "      <td>task5</td>\n",
       "      <td>0.650000</td>\n",
       "    </tr>\n",
       "    <tr>\n",
       "      <th>9</th>\n",
       "      <td>LGBMClassifier_CV</td>\n",
       "      <td>task7</td>\n",
       "      <td>0.635417</td>\n",
       "    </tr>\n",
       "    <tr>\n",
       "      <th>10</th>\n",
       "      <td>CatBoostClassifier_CV</td>\n",
       "      <td>task7</td>\n",
       "      <td>0.641667</td>\n",
       "    </tr>\n",
       "  </tbody>\n",
       "</table>\n",
       "</div>"
      ],
      "text/plain": [
       "                            model   task  accuracy\n",
       "5   GradientBoostingClassifier_CV  task5  0.639583\n",
       "6                XGBClassifier_CV  task5  0.650000\n",
       "9               LGBMClassifier_CV  task7  0.635417\n",
       "10          CatBoostClassifier_CV  task7  0.641667"
      ]
     },
     "metadata": {},
     "output_type": "display_data"
    }
   ],
   "source": [
    "### Ваш код ###\n",
    "lgbm_cv = GridSearchCV(LGBMClassifier(), param_grid=parameters, cv=3, n_jobs=6)\n",
    "lgbm_cv.fit(X_train, y_train)\n",
    "\n",
    "cb_cv = GridSearchCV(CatBoostClassifier(verbose=False), param_grid=parameters, cv=3, n_jobs=6)\n",
    "cb_cv.fit(X_train, y_train)\n",
    "\n",
    "best_params_lightgbm = lgbm_cv.best_params_\n",
    "print('Параметры лучшей модели lightgbm:')\n",
    "for key, value in best_params_lightgbm.items():\n",
    "    print(f'  {key}: {value}')\n",
    "\n",
    "best_params_catboost = cb_cv.best_params_\n",
    "print('Параметры лучшей модели catboost:')\n",
    "for key, value in best_params_catboost.items():\n",
    "    print(f'  {key}: {value}')\n",
    "\n",
    "acc_lightgbm_cv = accuracy_score(y_test, lgbm_cv.predict(X_test))\n",
    "acc_catboost_cv = accuracy_score(y_test, cb_cv.predict(X_test))\n",
    "\n",
    "results.loc[9] = ['LGBMClassifier_CV', 'task7', acc_lightgbm_cv]\n",
    "results.loc[10] = ['CatBoostClassifier_CV', 'task7', acc_catboost_cv]\n",
    "\n",
    "display(results[results['task'].isin(['task5', 'task7'])])"
   ]
  },
  {
   "cell_type": "markdown",
   "metadata": {},
   "source": [
    "**Вывод:**\n",
    "\n",
    "С подобранными параметрами градиентный бустинг из библиотеки xgboost дает лучший результат метрики accuracy. Далее идут алгоритмы из библиотеки catboost, sklearn и lightgbm."
   ]
  },
  {
   "cell_type": "markdown",
   "metadata": {},
   "source": [
    "8.Подберите оптимальные параметры алгоритма из библиотеки xgbost с помощью [optuna](https://github.com/optuna/optuna) . Параметры для оптимизации:\n",
    "\n",
    "скорость обучения\n",
    "\n",
    "количество деревьев\n",
    "\n",
    "глубина деревьев\n",
    "\n",
    "Сравните результат с поиском по сетке из sklearn. Выведите лучшие параметры алгоритма, найденные даным способом."
   ]
  },
  {
   "cell_type": "code",
   "execution_count": 11,
   "metadata": {},
   "outputs": [
    {
     "name": "stdout",
     "output_type": "stream",
     "text": [
      "Параметры лучшей модели xgboost:\n",
      "  learning_rate: 0.23986773180961415\n",
      "  n_estimators: 119\n",
      "  max_depth: 5\n"
     ]
    },
    {
     "data": {
      "text/html": [
       "<div>\n",
       "<style scoped>\n",
       "    .dataframe tbody tr th:only-of-type {\n",
       "        vertical-align: middle;\n",
       "    }\n",
       "\n",
       "    .dataframe tbody tr th {\n",
       "        vertical-align: top;\n",
       "    }\n",
       "\n",
       "    .dataframe thead th {\n",
       "        text-align: right;\n",
       "    }\n",
       "</style>\n",
       "<table border=\"1\" class=\"dataframe\">\n",
       "  <thead>\n",
       "    <tr style=\"text-align: right;\">\n",
       "      <th></th>\n",
       "      <th>model</th>\n",
       "      <th>task</th>\n",
       "      <th>accuracy</th>\n",
       "    </tr>\n",
       "  </thead>\n",
       "  <tbody>\n",
       "    <tr>\n",
       "      <th>5</th>\n",
       "      <td>GradientBoostingClassifier_CV</td>\n",
       "      <td>task5</td>\n",
       "      <td>0.639583</td>\n",
       "    </tr>\n",
       "    <tr>\n",
       "      <th>6</th>\n",
       "      <td>XGBClassifier_CV</td>\n",
       "      <td>task5</td>\n",
       "      <td>0.650000</td>\n",
       "    </tr>\n",
       "    <tr>\n",
       "      <th>11</th>\n",
       "      <td>XGBClassifier_optuna</td>\n",
       "      <td>task8</td>\n",
       "      <td>0.675000</td>\n",
       "    </tr>\n",
       "  </tbody>\n",
       "</table>\n",
       "</div>"
      ],
      "text/plain": [
       "                            model   task  accuracy\n",
       "5   GradientBoostingClassifier_CV  task5  0.639583\n",
       "6                XGBClassifier_CV  task5  0.650000\n",
       "11           XGBClassifier_optuna  task8  0.675000"
      ]
     },
     "metadata": {},
     "output_type": "display_data"
    }
   ],
   "source": [
    "### Ваш код ###\n",
    "import optuna\n",
    "import optuna.integration.xgboost as optuna_xgboost\n",
    "\n",
    "# print(optuna.__version__)\n",
    "\n",
    "optuna.logging.set_verbosity(optuna.logging.WARNING)\n",
    "\n",
    "def objective(trial):\n",
    "    parameters = {\n",
    "        'learning_rate': trial.suggest_float('learning_rate', 0.01, 0.5),\n",
    "        'n_estimators': trial.suggest_int('n_estimators', 100, 500),\n",
    "        'max_depth': trial.suggest_int('max_depth', 1, 5),\n",
    "    }\n",
    "    \n",
    "    # Fit the model\n",
    "    optuna_model = XGBClassifier(**parameters)\n",
    "    optuna_model.fit(X_train, y_train)\n",
    "\n",
    "    # Make predictions\n",
    "    y_pred = optuna_model.predict(X_test)\n",
    "\n",
    "    # Evaluate predictions\n",
    "    accuracy = accuracy_score(y_test, y_pred)\n",
    "\n",
    "    return accuracy\n",
    "    \n",
    "study = optuna.create_study(direction='maximize')\n",
    "study.optimize(objective, n_trials=100)\n",
    "\n",
    "best_params_xgboost_optuna = study.best_trial.params\n",
    "print('Параметры лучшей модели xgboost:')\n",
    "for key, value in best_params_xgboost_optuna.items():\n",
    "    print(f'  {key}: {value}')\n",
    "\n",
    "xgb = XGBClassifier(**best_params_xgboost_optuna)\n",
    "xgb.fit(X_train, y_train)\n",
    "\n",
    "acc_xgboost_optuna = accuracy_score(y_test, xgb.predict(X_test))\n",
    "\n",
    "results.loc[11] = ['XGBClassifier_optuna', 'task8', acc_xgboost_optuna]\n",
    "\n",
    "display(results[results['task'].isin(['task5', 'task8'])])"
   ]
  },
  {
   "cell_type": "markdown",
   "metadata": {},
   "source": [
    "**Вывод:**\n",
    "\n",
    "Подбор параметров с помощью optuna работает быстрее алгоритма GridSearchCV из библиотеки sklearn. С подобранными параметрами, с помощью optuna, градиентный бустинг из библиотеки xgboost дает самый лучший результат метрики accuracy."
   ]
  },
  {
   "cell_type": "markdown",
   "metadata": {},
   "source": [
    "9.Выведите качество по метрике accuracy стэкинга (StackingClassifier) 4-х алгоритмов с базовыми параметрами градиентного бустинга."
   ]
  },
  {
   "cell_type": "code",
   "execution_count": 12,
   "metadata": {},
   "outputs": [
    {
     "data": {
      "text/html": [
       "<div>\n",
       "<style scoped>\n",
       "    .dataframe tbody tr th:only-of-type {\n",
       "        vertical-align: middle;\n",
       "    }\n",
       "\n",
       "    .dataframe tbody tr th {\n",
       "        vertical-align: top;\n",
       "    }\n",
       "\n",
       "    .dataframe thead th {\n",
       "        text-align: right;\n",
       "    }\n",
       "</style>\n",
       "<table border=\"1\" class=\"dataframe\">\n",
       "  <thead>\n",
       "    <tr style=\"text-align: right;\">\n",
       "      <th></th>\n",
       "      <th>model</th>\n",
       "      <th>task</th>\n",
       "      <th>accuracy</th>\n",
       "    </tr>\n",
       "  </thead>\n",
       "  <tbody>\n",
       "    <tr>\n",
       "      <th>12</th>\n",
       "      <td>Stacking default</td>\n",
       "      <td>task9</td>\n",
       "      <td>0.672917</td>\n",
       "    </tr>\n",
       "  </tbody>\n",
       "</table>\n",
       "</div>"
      ],
      "text/plain": [
       "               model   task  accuracy\n",
       "12  Stacking default  task9  0.672917"
      ]
     },
     "metadata": {},
     "output_type": "display_data"
    }
   ],
   "source": [
    "### Ваш код ###\n",
    "from sklearn.ensemble import StackingClassifier\n",
    "\n",
    "estimators = [\n",
    "    ('GradientBoostingClassifier', GradientBoostingClassifier()),\n",
    "    ('XGBClassifier', XGBClassifier()),\n",
    "    ('LGBMClassifier', LGBMClassifier()),\n",
    "    ('CatBoostClassifier', CatBoostClassifier(verbose=False)),\n",
    "]\n",
    "\n",
    "stacking = StackingClassifier(estimators)\n",
    "stacking.fit(X_train, y_train)\n",
    "\n",
    "acc_stacking_default = accuracy_score(y_test, stacking.predict(X_test))\n",
    "\n",
    "results.loc[12] = ['Stacking default', 'task9', acc_stacking_default]\n",
    "\n",
    "display(results[12:13])"
   ]
  },
  {
   "cell_type": "markdown",
   "metadata": {},
   "source": [
    "**Вывод:**\n",
    "\n",
    "Стэкинг 4-х алгоритмов градиентного бустинга с базовыми параметрами показал высокий результат метрики accuracy. Результат получился лучше алгоритма XGBClassifier из библиотеки xgboost с подобранными параметрами (подбор параметров осуществлялся с помощью optuna)."
   ]
  },
  {
   "cell_type": "markdown",
   "metadata": {},
   "source": [
    "10.Выведите качество по метрике accuracy стэкинга 4-х алгоритмов с оптимальными параметрами градиентного бустинга. Сравните результаты с предыдущим шагом и напишите какой вывод можно из этого сделать."
   ]
  },
  {
   "cell_type": "code",
   "execution_count": 13,
   "metadata": {},
   "outputs": [
    {
     "data": {
      "text/html": [
       "<div>\n",
       "<style scoped>\n",
       "    .dataframe tbody tr th:only-of-type {\n",
       "        vertical-align: middle;\n",
       "    }\n",
       "\n",
       "    .dataframe tbody tr th {\n",
       "        vertical-align: top;\n",
       "    }\n",
       "\n",
       "    .dataframe thead th {\n",
       "        text-align: right;\n",
       "    }\n",
       "</style>\n",
       "<table border=\"1\" class=\"dataframe\">\n",
       "  <thead>\n",
       "    <tr style=\"text-align: right;\">\n",
       "      <th></th>\n",
       "      <th>model</th>\n",
       "      <th>task</th>\n",
       "      <th>accuracy</th>\n",
       "    </tr>\n",
       "  </thead>\n",
       "  <tbody>\n",
       "    <tr>\n",
       "      <th>13</th>\n",
       "      <td>Stacking</td>\n",
       "      <td>task10</td>\n",
       "      <td>0.6625</td>\n",
       "    </tr>\n",
       "  </tbody>\n",
       "</table>\n",
       "</div>"
      ],
      "text/plain": [
       "       model    task  accuracy\n",
       "13  Stacking  task10    0.6625"
      ]
     },
     "metadata": {},
     "output_type": "display_data"
    }
   ],
   "source": [
    "### Ваш код ###\n",
    "estimators = [\n",
    "    ('GradientBoostingClassifier', GradientBoostingClassifier(**gb_cv.best_params_)),\n",
    "    ('XGBClassifier', XGBClassifier(**study.best_trial.params)),\n",
    "    ('LGBMClassifier', LGBMClassifier(**lgbm_cv.best_params_)),\n",
    "    ('CatBoostClassifier', CatBoostClassifier(verbose=False, **cb_cv.best_params_)),\n",
    "]\n",
    "\n",
    "stacking = StackingClassifier(estimators)\n",
    "stacking.fit(X_train, y_train)\n",
    "\n",
    "acc_stacking = accuracy_score(y_test, stacking.predict(X_test))\n",
    "\n",
    "results.loc[13] = ['Stacking', 'task10', acc_stacking]\n",
    "\n",
    "display(results[13:14])"
   ]
  },
  {
   "cell_type": "markdown",
   "metadata": {},
   "source": [
    "**Вывод:**\n",
    "\n",
    "Стэкинг 4-х алгоритмов градиентного бустинга с оптимальными параметрами оказался немного хуже чем тот же самый алгоритм стэкинга, но с базовыми параметрами для алогритмов градиентного бустинга."
   ]
  },
  {
   "cell_type": "code",
   "execution_count": null,
   "metadata": {},
   "outputs": [],
   "source": []
  },
  {
   "cell_type": "code",
   "execution_count": 14,
   "metadata": {},
   "outputs": [
    {
     "data": {
      "text/html": [
       "<div>\n",
       "<style scoped>\n",
       "    .dataframe tbody tr th:only-of-type {\n",
       "        vertical-align: middle;\n",
       "    }\n",
       "\n",
       "    .dataframe tbody tr th {\n",
       "        vertical-align: top;\n",
       "    }\n",
       "\n",
       "    .dataframe thead th {\n",
       "        text-align: right;\n",
       "    }\n",
       "</style>\n",
       "<table border=\"1\" class=\"dataframe\">\n",
       "  <thead>\n",
       "    <tr style=\"text-align: right;\">\n",
       "      <th></th>\n",
       "      <th>model</th>\n",
       "      <th>task</th>\n",
       "      <th>accuracy</th>\n",
       "    </tr>\n",
       "  </thead>\n",
       "  <tbody>\n",
       "    <tr>\n",
       "      <th>0</th>\n",
       "      <td>DecisionTreeClassifier</td>\n",
       "      <td>task2</td>\n",
       "      <td>0.558333</td>\n",
       "    </tr>\n",
       "    <tr>\n",
       "      <th>1</th>\n",
       "      <td>BaggingClassifier</td>\n",
       "      <td>task2</td>\n",
       "      <td>0.641667</td>\n",
       "    </tr>\n",
       "    <tr>\n",
       "      <th>2</th>\n",
       "      <td>RandomForestClassifier</td>\n",
       "      <td>task2</td>\n",
       "      <td>0.670833</td>\n",
       "    </tr>\n",
       "    <tr>\n",
       "      <th>3</th>\n",
       "      <td>GradientBoostingClassifier</td>\n",
       "      <td>task4</td>\n",
       "      <td>0.560349</td>\n",
       "    </tr>\n",
       "    <tr>\n",
       "      <th>4</th>\n",
       "      <td>XGBClassifier</td>\n",
       "      <td>task4</td>\n",
       "      <td>0.547234</td>\n",
       "    </tr>\n",
       "    <tr>\n",
       "      <th>5</th>\n",
       "      <td>GradientBoostingClassifier_CV</td>\n",
       "      <td>task5</td>\n",
       "      <td>0.639583</td>\n",
       "    </tr>\n",
       "    <tr>\n",
       "      <th>6</th>\n",
       "      <td>XGBClassifier_CV</td>\n",
       "      <td>task5</td>\n",
       "      <td>0.650000</td>\n",
       "    </tr>\n",
       "    <tr>\n",
       "      <th>7</th>\n",
       "      <td>LGBMClassifier</td>\n",
       "      <td>task6</td>\n",
       "      <td>0.557247</td>\n",
       "    </tr>\n",
       "    <tr>\n",
       "      <th>8</th>\n",
       "      <td>CatBoostClassifier</td>\n",
       "      <td>task6</td>\n",
       "      <td>0.545976</td>\n",
       "    </tr>\n",
       "    <tr>\n",
       "      <th>9</th>\n",
       "      <td>LGBMClassifier_CV</td>\n",
       "      <td>task7</td>\n",
       "      <td>0.635417</td>\n",
       "    </tr>\n",
       "    <tr>\n",
       "      <th>10</th>\n",
       "      <td>CatBoostClassifier_CV</td>\n",
       "      <td>task7</td>\n",
       "      <td>0.641667</td>\n",
       "    </tr>\n",
       "    <tr>\n",
       "      <th>11</th>\n",
       "      <td>XGBClassifier_optuna</td>\n",
       "      <td>task8</td>\n",
       "      <td>0.675000</td>\n",
       "    </tr>\n",
       "    <tr>\n",
       "      <th>12</th>\n",
       "      <td>Stacking default</td>\n",
       "      <td>task9</td>\n",
       "      <td>0.672917</td>\n",
       "    </tr>\n",
       "    <tr>\n",
       "      <th>13</th>\n",
       "      <td>Stacking</td>\n",
       "      <td>task10</td>\n",
       "      <td>0.662500</td>\n",
       "    </tr>\n",
       "  </tbody>\n",
       "</table>\n",
       "</div>"
      ],
      "text/plain": [
       "                            model    task  accuracy\n",
       "0          DecisionTreeClassifier   task2  0.558333\n",
       "1              BaggingClassifier    task2  0.641667\n",
       "2          RandomForestClassifier   task2  0.670833\n",
       "3      GradientBoostingClassifier   task4  0.560349\n",
       "4                   XGBClassifier   task4  0.547234\n",
       "5   GradientBoostingClassifier_CV   task5  0.639583\n",
       "6                XGBClassifier_CV   task5  0.650000\n",
       "7                  LGBMClassifier   task6  0.557247\n",
       "8              CatBoostClassifier   task6  0.545976\n",
       "9               LGBMClassifier_CV   task7  0.635417\n",
       "10          CatBoostClassifier_CV   task7  0.641667\n",
       "11           XGBClassifier_optuna   task8  0.675000\n",
       "12               Stacking default   task9  0.672917\n",
       "13                       Stacking  task10  0.662500"
      ]
     },
     "execution_count": 14,
     "metadata": {},
     "output_type": "execute_result"
    }
   ],
   "source": [
    "results"
   ]
  },
  {
   "cell_type": "code",
   "execution_count": null,
   "metadata": {},
   "outputs": [],
   "source": []
  }
 ],
 "metadata": {
  "kernelspec": {
   "display_name": "Python 3 (ipykernel)",
   "language": "python",
   "name": "python3"
  },
  "language_info": {
   "codemirror_mode": {
    "name": "ipython",
    "version": 3
   },
   "file_extension": ".py",
   "mimetype": "text/x-python",
   "name": "python",
   "nbconvert_exporter": "python",
   "pygments_lexer": "ipython3",
   "version": "3.9.16"
  }
 },
 "nbformat": 4,
 "nbformat_minor": 2
}
